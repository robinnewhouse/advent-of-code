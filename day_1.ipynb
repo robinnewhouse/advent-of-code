{
  "nbformat": 4,
  "nbformat_minor": 0,
  "metadata": {
    "colab": {
      "name": "day-1.ipynb",
      "provenance": [],
      "collapsed_sections": [],
      "authorship_tag": "ABX9TyM//3ORERDQq9kZeb4tgy/V",
      "include_colab_link": true
    },
    "kernelspec": {
      "name": "python3",
      "display_name": "Python 3"
    }
  },
  "cells": [
    {
      "cell_type": "markdown",
      "metadata": {
        "id": "view-in-github",
        "colab_type": "text"
      },
      "source": [
        "<a href=\"https://colab.research.google.com/github/robinnewhouse/advent-of-code/blob/main/day_1.ipynb\" target=\"_parent\"><img src=\"https://colab.research.google.com/assets/colab-badge.svg\" alt=\"Open In Colab\"/></a>"
      ]
    },
    {
      "cell_type": "markdown",
      "metadata": {
        "id": "Bj-caQMclXb5"
      },
      "source": [
        "# Advent of code day 1\n",
        "\n",
        "https://adventofcode.com/2020/day/1"
      ]
    },
    {
      "cell_type": "code",
      "metadata": {
        "id": "qY6YZPbWil7U"
      },
      "source": [
        "# inputs as string\n",
        "input_string = '''\n",
        "1130\n",
        "1897\n",
        "1850\n",
        "1218\n",
        "1198\n",
        "1761\n",
        "1082\n",
        "1742\n",
        "1821\n",
        "1464\n",
        "1834\n",
        "1413\n",
        "1917\n",
        "1746\n",
        "1954\n",
        "1942\n",
        "1560\n",
        "1227\n",
        "1852\n",
        "1976\n",
        "1773\n",
        "1404\n",
        "1824\n",
        "1011\n",
        "1532\n",
        "1306\n",
        "1819\n",
        "1739\n",
        "1540\n",
        "1973\n",
        "1436\n",
        "1196\n",
        "1176\n",
        "1856\n",
        "1332\n",
        "1617\n",
        "1895\n",
        "1749\n",
        "1718\n",
        "1536\n",
        "1811\n",
        "113\n",
        "1008\n",
        "1908\n",
        "1799\n",
        "1914\n",
        "1603\n",
        "1782\n",
        "1980\n",
        "1228\n",
        "1838\n",
        "2006\n",
        "1953\n",
        "1846\n",
        "1903\n",
        "1470\n",
        "1774\n",
        "1599\n",
        "1446\n",
        "1324\n",
        "1054\n",
        "1952\n",
        "1928\n",
        "1997\n",
        "1764\n",
        "1943\n",
        "1932\n",
        "1615\n",
        "1428\n",
        "1036\n",
        "721\n",
        "1097\n",
        "1998\n",
        "1033\n",
        "1892\n",
        "1904\n",
        "1803\n",
        "1825\n",
        "1370\n",
        "1836\n",
        "1853\n",
        "1963\n",
        "1469\n",
        "1385\n",
        "246\n",
        "1987\n",
        "1153\n",
        "178\n",
        "1790\n",
        "1927\n",
        "1139\n",
        "1865\n",
        "1804\n",
        "1974\n",
        "1235\n",
        "1681\n",
        "1185\n",
        "2009\n",
        "1894\n",
        "1141\n",
        "1203\n",
        "1808\n",
        "1867\n",
        "1274\n",
        "1891\n",
        "1779\n",
        "1342\n",
        "1920\n",
        "851\n",
        "1994\n",
        "1975\n",
        "1979\n",
        "1880\n",
        "1647\n",
        "1365\n",
        "448\n",
        "1119\n",
        "1256\n",
        "1212\n",
        "1268\n",
        "1878\n",
        "1805\n",
        "1889\n",
        "1870\n",
        "1906\n",
        "1959\n",
        "1898\n",
        "1305\n",
        "1559\n",
        "1088\n",
        "1845\n",
        "1783\n",
        "1841\n",
        "1864\n",
        "1961\n",
        "1267\n",
        "1437\n",
        "1823\n",
        "801\n",
        "1579\n",
        "1538\n",
        "1745\n",
        "1972\n",
        "1259\n",
        "1899\n",
        "1517\n",
        "1940\n",
        "1543\n",
        "1882\n",
        "1933\n",
        "1240\n",
        "1608\n",
        "1263\n",
        "1429\n",
        "1197\n",
        "1508\n",
        "1631\n",
        "1988\n",
        "1350\n",
        "1638\n",
        "1800\n",
        "1999\n",
        "1822\n",
        "1776\n",
        "1896\n",
        "1610\n",
        "1831\n",
        "1921\n",
        "1535\n",
        "1526\n",
        "1491\n",
        "1876\n",
        "1476\n",
        "1945\n",
        "1702\n",
        "1900\n",
        "1814\n",
        "1289\n",
        "1992\n",
        "1859\n",
        "1967\n",
        "1966\n",
        "1283\n",
        "2002\n",
        "1195\n",
        "1066\n",
        "1924\n",
        "1968\n",
        "1835\n",
        "1971\n",
        "1977\n",
        "1430\n",
        "1844\n",
        "1465\n",
        "1595\n",
        "1957\n",
        "1472\n",
        "219\n",
        "1851\n",
        "1955\n",
        "'''\n",
        "\n",
        "# list comprehension to convert to integers\n",
        "input_ints = [int(x) for x in input_string.split()]"
      ],
      "execution_count": null,
      "outputs": []
    },
    {
      "cell_type": "markdown",
      "metadata": {
        "id": "876H_Gikkn29"
      },
      "source": [
        "Challenge 1"
      ]
    },
    {
      "cell_type": "code",
      "metadata": {
        "colab": {
          "base_uri": "https://localhost:8080/"
        },
        "id": "wyhiioL-iuXt",
        "outputId": "c45fda22-9c17-4674-8924-2fd99e313349"
      },
      "source": [
        "import itertools\n",
        "import numpy as np\n",
        "\n",
        "# use itertools to find all possible combinations\n",
        "for pair in itertools.combinations(input_ints, 2):\n",
        "  if np.sum(pair) == 2020:\n",
        "    print(pair, np.product(pair))\n"
      ],
      "execution_count": null,
      "outputs": [
        {
          "output_type": "stream",
          "text": [
            "(1774, 246) 436404\n"
          ],
          "name": "stdout"
        }
      ]
    },
    {
      "cell_type": "markdown",
      "metadata": {
        "id": "UUGTianbkuu8"
      },
      "source": [
        "Challenge 2"
      ]
    },
    {
      "cell_type": "code",
      "metadata": {
        "colab": {
          "base_uri": "https://localhost:8080/"
        },
        "id": "rpl9VJzNkwOz",
        "outputId": "13e89460-8fbf-4591-8670-803d256a5e2f"
      },
      "source": [
        "import itertools\n",
        "import numpy as np\n",
        "\n",
        "# use itertools to find all possible combinations\n",
        "for triplet in itertools.combinations(input_ints, 3):\n",
        "  if np.sum(triplet) == 2020:\n",
        "    print(triplet, np.product(triplet))\n"
      ],
      "execution_count": null,
      "outputs": [
        {
          "output_type": "stream",
          "text": [
            "(721, 851, 448) 274879808\n"
          ],
          "name": "stdout"
        }
      ]
    }
  ]
}