{
  "nbformat": 4,
  "nbformat_minor": 0,
  "metadata": {
    "colab": {
      "name": "day-13.ipynb",
      "provenance": [],
      "collapsed_sections": [],
      "authorship_tag": "ABX9TyOR3Rjh4OACbJbu2yQGItSe",
      "include_colab_link": true
    },
    "kernelspec": {
      "name": "python3",
      "display_name": "Python 3"
    }
  },
  "cells": [
    {
      "cell_type": "markdown",
      "metadata": {
        "id": "view-in-github",
        "colab_type": "text"
      },
      "source": [
        "<a href=\"https://colab.research.google.com/github/robinnewhouse/advent-of-code/blob/main/day_13.ipynb\" target=\"_parent\"><img src=\"https://colab.research.google.com/assets/colab-badge.svg\" alt=\"Open In Colab\"/></a>"
      ]
    },
    {
      "cell_type": "code",
      "metadata": {
        "colab": {
          "base_uri": "https://localhost:8080/"
        },
        "id": "zR429UkmVLt1",
        "outputId": "c58a01b3-6f55-40e4-f4c3-753716b1b2cc"
      },
      "source": [
        "# part 1 \n",
        "\n",
        "departure_time = int(input_string.splitlines()[0])\n",
        "schedule = [int(x) for x in input_string.splitlines()[1].split(',') if not x == 'x']\n",
        "print(departure_time, schedule)\n",
        "print()\n",
        "\n",
        "earliest = {}\n",
        "for bus in schedule:\n",
        "  for i in range(departure_time):\n",
        "    if (bus*i-departure_time) > 0:\n",
        "      earliest[bus] = bus*i-departure_time\n",
        "      break\n",
        "# print(earliest)\n",
        "\n",
        "min_bus, min_earliest_bus = float('inf'), float('inf')\n",
        "for bus, earliest_bus in earliest.items():\n",
        "  # print(bus, earliest_bus)\n",
        "  if earliest_bus < min_earliest_bus:\n",
        "    min_bus = bus\n",
        "    min_earliest_bus = earliest_bus\n",
        "\n",
        "print('min_earliest_bus', min_earliest_bus)\n",
        "print('min_bus', min_bus)\n",
        "print('solution (product of above):', min_bus*min_earliest_bus)\n"
      ],
      "execution_count": 98,
      "outputs": [
        {
          "output_type": "stream",
          "text": [
            "1000067 [17, 37, 439, 29, 13, 23, 787, 41, 19]\n",
            "\n",
            "min_earliest_bus 5\n",
            "min_bus 41\n",
            "solution (product of above): 205\n"
          ],
          "name": "stdout"
        }
      ]
    },
    {
      "cell_type": "code",
      "metadata": {
        "colab": {
          "base_uri": "https://localhost:8080/"
        },
        "id": "diN2JO8ygAQF",
        "outputId": "62e19128-0732-4ce1-8e81-f9de03307dd2"
      },
      "source": [
        "import numpy as np\n",
        "\n",
        "# part 2\n",
        "schedule = input_string.splitlines()[1].split(',')\n",
        "schedule = [1 if t == 'x' else int(t) for t in schedule]\n",
        "print(schedule)\n",
        "\n",
        "def check_schedule(schedule, time):\n",
        "  '''check if each bus departs a minute after the timestamp'''\n",
        "  for minute, bus in enumerate(schedule):\n",
        "    if bus == 1: continue\n",
        "    if not (time+minute)%bus == 0:\n",
        "      return False\n",
        "  return True\n",
        "\n",
        "def print_schedule(schedule, time):\n",
        "  for minute, bus in enumerate(schedule):\n",
        "    if bus == 1: continue\n",
        "    print(bus, minute, (i+minute)%bus)\n",
        "\n",
        "'''\n",
        "If you solve for the first subset of busses you see a repeating pattern in the times\n",
        "that are possible that fit the required pattern. The pattern passes only at the first instance of that\n",
        "passing time pus a multiple of that difference. That way we can just set the increment to be that \n",
        "difference instead of 1 and we can progress much faster through the loop.\n",
        "As you grow the set of busses, a new repetition interval appears, so you can just \n",
        "set the increment to that new repetition pattern and iterate through the loop quite quickly.\n",
        "the trick is to wait for at least two \"successes\" before moving on so that the difference \n",
        "in those two successful times can be calculated. This is what good_times keeps track of.\n",
        "'''\n",
        "i = 1\n",
        "increment = 1\n",
        "nbusses = 1\n",
        "good_times = []\n",
        "while True:\n",
        "  if check_schedule(schedule[0:nbusses+1], i):\n",
        "    good_times.append(i)\n",
        "\n",
        "  if len(good_times) >= 2:\n",
        "    print('times', good_times)\n",
        "    print('diff', np.diff(good_times))\n",
        "    print('new increment', np.diff(good_times)[0])\n",
        "    print('i', good_times[0])\n",
        "    print()\n",
        "    # reset\n",
        "    i = good_times[0]\n",
        "    increment = np.diff(good_times)[0]\n",
        "    good_times = []\n",
        "    # i += increment\n",
        "\n",
        "    nbusses+=1\n",
        "    if nbusses >= len(schedule):\n",
        "      break\n",
        "    while schedule[nbusses] == 1:\n",
        "      nbusses += 1\n",
        "\n",
        "  i += increment\n",
        "\n",
        "  # else:\n",
        "  #   i += increment\n",
        "\n",
        "  # break\n",
        "\n",
        "print(depart_at_interval, i)\n",
        "print_schedule(schedule, i)\n",
        "print('Solution:', i)\n"
      ],
      "execution_count": 99,
      "outputs": [
        {
          "output_type": "stream",
          "text": [
            "[17, 1, 1, 1, 1, 1, 1, 1, 1, 1, 1, 37, 1, 1, 1, 1, 1, 439, 1, 29, 1, 1, 1, 1, 1, 1, 1, 1, 1, 1, 13, 1, 1, 1, 1, 1, 1, 1, 1, 1, 23, 1, 1, 1, 1, 1, 1, 1, 787, 1, 1, 1, 1, 1, 1, 1, 1, 1, 41, 1, 1, 1, 1, 1, 1, 1, 1, 19]\n",
            "times [17, 34]\n",
            "diff [17]\n",
            "new increment 17\n",
            "i 17\n",
            "\n",
            "times [544, 1173]\n",
            "diff [629]\n",
            "new increment 629\n",
            "i 544\n",
            "\n",
            "times [171632, 447763]\n",
            "diff [276131]\n",
            "new increment 276131\n",
            "i 171632\n",
            "\n",
            "times [8179431, 16187230]\n",
            "diff [8007799]\n",
            "new increment 8007799\n",
            "i 8179431\n",
            "\n",
            "times [48218426, 152319813]\n",
            "diff [104101387]\n",
            "new increment 104101387\n",
            "i 48218426\n",
            "\n",
            "times [2026144779, 4420476680]\n",
            "diff [2394331901]\n",
            "new increment 2394331901\n",
            "i 2026144779\n",
            "\n",
            "times [296528968602, 2180868174689]\n",
            "diff [1884339206087]\n",
            "new increment 1884339206087\n",
            "i 296528968602\n",
            "\n",
            "times [30445956265994, 107703863715561]\n",
            "diff [77257907449567]\n",
            "new increment 77257907449567\n",
            "i 30445956265994\n",
            "\n",
            "times [803025030761664, 2270925272303437]\n",
            "diff [1467900241541773]\n",
            "new increment 1467900241541773\n",
            "i 803025030761664\n",
            "\n",
            "True 803025030761664\n",
            "17 0 0\n",
            "37 11 0\n",
            "439 17 0\n",
            "29 19 0\n",
            "13 30 0\n",
            "23 40 0\n",
            "787 48 0\n",
            "41 58 0\n",
            "19 67 0\n",
            "Solution: 803025030761664\n"
          ],
          "name": "stdout"
        }
      ]
    },
    {
      "cell_type": "code",
      "metadata": {
        "id": "4eaHf9AnVNJt"
      },
      "source": [
        "test_string = '''939\n",
        "7,13,x,x,59,x,31,19\n",
        "'''\n",
        "\n",
        "input_string = '''1000067\n",
        "17,x,x,x,x,x,x,x,x,x,x,37,x,x,x,x,x,439,x,29,x,x,x,x,x,x,x,x,x,x,13,x,x,x,x,x,x,x,x,x,23,x,x,x,x,x,x,x,787,x,x,x,x,x,x,x,x,x,41,x,x,x,x,x,x,x,x,19\n",
        "'''"
      ],
      "execution_count": 2,
      "outputs": []
    }
  ]
}