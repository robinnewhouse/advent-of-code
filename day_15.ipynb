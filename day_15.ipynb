{
  "nbformat": 4,
  "nbformat_minor": 0,
  "metadata": {
    "colab": {
      "name": "day-15.ipynb",
      "provenance": [],
      "collapsed_sections": [],
      "authorship_tag": "ABX9TyMRG8K2Cdg+hXCLer/hICBr",
      "include_colab_link": true
    },
    "kernelspec": {
      "name": "python3",
      "display_name": "Python 3"
    }
  },
  "cells": [
    {
      "cell_type": "markdown",
      "metadata": {
        "id": "view-in-github",
        "colab_type": "text"
      },
      "source": [
        "<a href=\"https://colab.research.google.com/github/robinnewhouse/advent-of-code/blob/main/day_15.ipynb\" target=\"_parent\"><img src=\"https://colab.research.google.com/assets/colab-badge.svg\" alt=\"Open In Colab\"/></a>"
      ]
    },
    {
      "cell_type": "code",
      "metadata": {
        "id": "uPm_k7mAEzjh",
        "colab": {
          "base_uri": "https://localhost:8080/"
        },
        "outputId": "91e8dd35-4016-4619-b854-ec2c120da50d"
      },
      "source": [
        "# part 1\n",
        "\n",
        "input = [int(x) for x in input_string.split(',')]\n",
        "print(input)\n",
        "numbers = {}\n",
        "turn = 1\n",
        "number_previously_spoken = -1\n",
        "turn_previously_spoken = -1\n",
        "for n in input:\n",
        "  numbers[n] = turn\n",
        "  last_spoken = n\n",
        "  print('turn: ', turn, 'speak: ', n)\n",
        "  number_previously_spoken = n\n",
        "  turn += 1\n",
        "\n",
        "# print(numbers)\n",
        "while True:\n",
        "\n",
        "\n",
        "  if turn_previously_spoken >= 0:\n",
        "    difference = (turn-1) - (turn_previously_spoken)\n",
        "  else:\n",
        "    difference = 0\n",
        "\n",
        "  # print('turn: ', turn, 'speak: ', difference)\n",
        "  \n",
        "  if difference in numbers:\n",
        "    turn_previously_spoken = numbers[difference]\n",
        "  else:\n",
        "    turn_previously_spoken = -1\n",
        "  numbers[difference] = turn\n",
        "  number_previously_spoken = difference\n",
        "\n",
        "\n",
        "  if turn == 2020: break\n",
        "  turn += 1\n",
        "\n",
        "print('solution:', 'turn: ', turn, 'speak: ', difference)\n"
      ],
      "execution_count": 20,
      "outputs": [
        {
          "output_type": "stream",
          "text": [
            "[16, 12, 1, 0, 15, 7, 11]\n",
            "turn:  1 speak:  16\n",
            "turn:  2 speak:  12\n",
            "turn:  3 speak:  1\n",
            "turn:  4 speak:  0\n",
            "turn:  5 speak:  15\n",
            "turn:  6 speak:  7\n",
            "turn:  7 speak:  11\n",
            "solution: turn:  2020 speak:  403\n"
          ],
          "name": "stdout"
        }
      ]
    },
    {
      "cell_type": "code",
      "metadata": {
        "colab": {
          "base_uri": "https://localhost:8080/"
        },
        "id": "MFKqI-n-KilR",
        "outputId": "83985bae-1800-476f-f2ea-65aaaa319aed"
      },
      "source": [
        "# part 2\n",
        "# I don't see what was so challenging about this part...\n",
        "# just increased the termination number\n",
        "\n",
        "input = [int(x) for x in input_string.split(',')]\n",
        "print(input)\n",
        "numbers = {}\n",
        "turn = 1\n",
        "number_previously_spoken = -1\n",
        "turn_previously_spoken = -1\n",
        "for n in input:\n",
        "  numbers[n] = turn\n",
        "  last_spoken = n\n",
        "  print('turn: ', turn, 'speak: ', n)\n",
        "  number_previously_spoken = n\n",
        "  turn += 1\n",
        "\n",
        "# print(numbers)\n",
        "while True:\n",
        "\n",
        "\n",
        "  if turn_previously_spoken >= 0:\n",
        "    difference = (turn-1) - (turn_previously_spoken)\n",
        "  else:\n",
        "    difference = 0\n",
        "\n",
        "  # print('turn: ', turn, 'speak: ', difference)\n",
        "  \n",
        "  if difference in numbers:\n",
        "    turn_previously_spoken = numbers[difference]\n",
        "  else:\n",
        "    turn_previously_spoken = -1\n",
        "  numbers[difference] = turn\n",
        "  number_previously_spoken = difference\n",
        "\n",
        "\n",
        "  if turn == 30000000: break\n",
        "  if turn % 3000000 == 0: print('turn', turn, turn/30000000*100, '%')\n",
        "  turn += 1\n",
        "\n",
        "print('solution:', 'turn: ', turn, 'speak: ', difference)\n"
      ],
      "execution_count": 22,
      "outputs": [
        {
          "output_type": "stream",
          "text": [
            "[16, 12, 1, 0, 15, 7, 11]\n",
            "turn:  1 speak:  16\n",
            "turn:  2 speak:  12\n",
            "turn:  3 speak:  1\n",
            "turn:  4 speak:  0\n",
            "turn:  5 speak:  15\n",
            "turn:  6 speak:  7\n",
            "turn:  7 speak:  11\n",
            "turn 3000000 10.0 %\n",
            "turn 6000000 20.0 %\n",
            "turn 9000000 30.0 %\n",
            "turn 12000000 40.0 %\n",
            "turn 15000000 50.0 %\n",
            "turn 18000000 60.0 %\n",
            "turn 21000000 70.0 %\n",
            "turn 24000000 80.0 %\n",
            "turn 27000000 90.0 %\n",
            "solution: turn:  30000000 speak:  6823\n"
          ],
          "name": "stdout"
        }
      ]
    },
    {
      "cell_type": "code",
      "metadata": {
        "id": "sd3z4m2CEzlq"
      },
      "source": [
        "test_string = '''0,3,6'''\n",
        "\n",
        "input_string = '''16,12,1,0,15,7,11'''"
      ],
      "execution_count": 10,
      "outputs": []
    }
  ]
}